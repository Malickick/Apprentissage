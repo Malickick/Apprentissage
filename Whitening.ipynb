{
 "cells": [
  {
   "cell_type": "code",
   "execution_count": 2,
   "metadata": {},
   "outputs": [
    {
     "name": "stdout",
     "output_type": "stream",
     "text": [
      "(50000, 3072)\n",
      "(50000,)\n",
      "(10000, 3072)\n",
      "(10000,)\n"
     ]
    }
   ],
   "source": [
    "import gzip\n",
    "import numpy as np\n",
    "import pickle\n",
    "import matplotlib.pyplot as plt\n",
    "from sklearn.neighbors import KNeighborsClassifier\n",
    "from sklearn import metrics\n",
    "\n",
    "\n",
    "def unpickle(file):\n",
    "    with open(file, 'rb') as fo:\n",
    "        dict = pickle.load(fo, encoding='bytes')\n",
    "    return dict\n",
    "\n",
    "test_set = unpickle('cifar-10-batches-py/test_batch')\n",
    "meta        = unpickle(\"cifar-10-batches-py/batches.meta\")\n",
    "\n",
    "# Chargement de l'ensemble des batch en vue d'entrainer les algo sur l'ensemble des données\n",
    "train_set_1 = unpickle(\"cifar-10-batches-py/data_batch_1\")\n",
    "train_set_2 = unpickle(\"cifar-10-batches-py/data_batch_2\")\n",
    "train_set_3 = unpickle(\"cifar-10-batches-py/data_batch_3\")\n",
    "train_set_4 = unpickle(\"cifar-10-batches-py/data_batch_4\")\n",
    "train_set_5 = unpickle(\"cifar-10-batches-py/data_batch_5\")\n",
    "\n",
    "train_sets = [train_set_1, train_set_2, train_set_3, train_set_4, train_set_5]\n",
    "\n",
    "# Préparation des données en vu d'un apprentissage sur l'ensemble des batchs\n",
    "\n",
    "# Création de la matrice X contenant nos examples\n",
    "X_1 = np.asarray(train_set_1[b'data'])\n",
    "X_2 = np.asarray(train_set_2[b'data'])\n",
    "X_3 = np.asarray(train_set_3[b'data'])\n",
    "X_4 = np.asarray(train_set_4[b'data'])\n",
    "X_5 = np.asarray(train_set_5[b'data'])\n",
    "X = np.concatenate((X_1, X_2, X_3, X_4, X_5), axis=0)\n",
    "print(X.shape)\n",
    "\n",
    "# Création du vecteur de labels correspondant\n",
    "y_1 = np.asarray(train_set_1[b'labels'])\n",
    "y_2 = np.asarray(train_set_2[b'labels'])\n",
    "y_3 = np.asarray(train_set_3[b'labels'])\n",
    "y_4 = np.asarray(train_set_4[b'labels'])\n",
    "y_5 = np.asarray(train_set_5[b'labels'])\n",
    "y = np.concatenate((y_1, y_2, y_3, y_4, y_5), axis=0)\n",
    "print(y.shape)\n",
    "\n",
    "# De même pour l'ensemble de test:\n",
    "X_test = np.asarray(test_set[b'data'])\n",
    "y_test = np.asarray(test_set[b'labels'])\n",
    "print(X_test.shape)\n",
    "print(y_test.shape)\n"
   ]
  },
  {
   "cell_type": "code",
   "execution_count": 4,
   "metadata": {
    "collapsed": true
   },
   "outputs": [],
   "source": [
    "# Fonction prenant un data_set en paramètre qui permet de fusionner les pixels R,G,B  des images \n",
    "def fusionne(data_set):\n",
    "    X = data_set\n",
    "    \n",
    "    # output is of shape (N, 3, 32, 32)\n",
    "    X = X.reshape((-1,3,32,32))\n",
    "\n",
    "    # output is of shape (N, 32, 32, 3)\n",
    "    X = X.transpose(0,2,3,1)\n",
    "\n",
    "    # put data back into a design matrix (N, 3072)\n",
    "    X = X.reshape(-1, 3072)\n",
    "    \n",
    "    return X"
   ]
  },
  {
   "cell_type": "code",
   "execution_count": 5,
   "metadata": {
    "collapsed": true
   },
   "outputs": [],
   "source": [
    "# X_fusionne = fusionne(X) \n",
    "# plt.imshow(X_fusionne[18].reshape(32,32,3))\n",
    "# plt.title(\"Après fusion des pixels R,G,B\")\n",
    "# plt.show()\n",
    "\n",
    "# plt.imshow(X[18].reshape(32,32,3))\n",
    "# plt.title(\"Avant fusion des pixels R,G,B\")\n",
    "# plt.show()\n",
    "# plt.imshow(255 - X[18].reshape(32,32,3))\n",
    "# plt.show()"
   ]
  },
  {
   "cell_type": "code",
   "execution_count": 6,
   "metadata": {
    "collapsed": true
   },
   "outputs": [],
   "source": [
    "# def whiten(centered_data):\n",
    "    \n",
    "# Fonction qui prend en paramètre un data_set et qui centre les valeurs des pixels des images\n",
    "def centrer(data_set):\n",
    "    X_fusionne = fusionne(data_set)\n",
    "    X_centered = X_fusionne - X_fusionne.mean(axis=0)\n",
    "    return X_centered"
   ]
  },
  {
   "cell_type": "code",
   "execution_count": 7,
   "metadata": {
    "collapsed": true
   },
   "outputs": [],
   "source": [
    "\n",
    "# plt.imshow(X_centered[18].reshape(32,32,3))\n",
    "# plt.show()\n",
    "# print (np.var(X))\n",
    "# X_centered = centrer(X)\n",
    "# print (np.var(X_centered))\n",
    "# print(np.cov(X))\n",
    "# print(np.cov(X_centered))"
   ]
  },
  {
   "cell_type": "code",
   "execution_count": 8,
   "metadata": {
    "collapsed": true,
    "scrolled": true
   },
   "outputs": [],
   "source": [
    "# print(pred_3[:50])\n",
    "# print(test_set[b'labels'][:50])\n",
    "# for i in range(len(pred_3[:50])):\n",
    "#     if pred_3[i] == test_set[b'labels'][i]:\n",
    "#         print(\"Bonne réponse\")"
   ]
  },
  {
   "cell_type": "code",
   "execution_count": 9,
   "metadata": {
    "collapsed": true
   },
   "outputs": [],
   "source": [
    "def compute_centrer(k, train_data, train_labels, test_set, n_images):\n",
    "    train_data = centrer(train_data)\n",
    "    centered_test_data = centrer(test_set[b'data']) \n",
    "    knn = KNeighborsClassifier(n_neighbors=12)\n",
    "    knn.fit(train_data,train_labels)\n",
    "    pred = knn.predict(centered_test_data[:n_images])\n",
    "    precision = metrics.accuracy_score(test_set[b'labels'][:n_images], pred)\n",
    "    print(\"Précision :\", precision)\n",
    "    \n",
    "def compute(k, train_data, train_labels, test_set, n_images):\n",
    "    knn = KNeighborsClassifier(n_neighbors=12)\n",
    "    knn.fit(train_data,train_labels)\n",
    "    pred = knn.predict(test_set[b'data'][:n_images])\n",
    "    precision = metrics.accuracy_score(test_set[b'labels'][:n_images], pred)\n",
    "    print(\"Précision :\", precision)\n",
    "    \n",
    "def compute_whitened(k, train_data, train_labels, test_set, test_labels, n_images):\n",
    "    knn = KNeighborsClassifier(n_neighbors=12)\n",
    "    knn.fit(train_data,train_labels)\n",
    "    pred = knn.predict(test_set[:n_images])\n",
    "    precision = metrics.accuracy_score(test_labels[:n_images], pred)\n",
    "    print(\"Précision :\", precision)"
   ]
  },
  {
   "cell_type": "code",
   "execution_count": 10,
   "metadata": {
    "collapsed": true
   },
   "outputs": [],
   "source": [
    "# compute(15, X, y, test_set, 1000)\n",
    "\n",
    "# compute_centrer(15, X, y, test_set, 1000)"
   ]
  },
  {
   "cell_type": "code",
   "execution_count": 11,
   "metadata": {},
   "outputs": [
    {
     "data": {
      "image/png": "[encoded data removed]",
      "text/plain": [
       "<matplotlib.figure.Figure at 0x28ea86e96a0>"
      ]
     },
     "metadata": {},
     "output_type": "display_data"
    },
    {
     "name": "stdout",
     "output_type": "stream",
     "text": [
      "228\n"
     ]
    },
    {
     "name": "stderr",
     "output_type": "stream",
     "text": [
      "C:\\Users\\Malik\\Anaconda3\\lib\\site-packages\\ipykernel_launcher.py:4: RuntimeWarning: invalid value encountered in true_divide\n",
      "  after removing the cwd from sys.path.\n"
     ]
    },
    {
     "data": {
      "image/png": "[encoded data removed]",
      "text/plain": [
       "<matplotlib.figure.Figure at 0x28ea866de80>"
      ]
     },
     "metadata": {},
     "output_type": "display_data"
    }
   ],
   "source": [
    "def affiche(img):\n",
    "    img = img.reshape((32,32,3))\n",
    "    m,M = img.min(), img.max()\n",
    "    plt.imshow((img - m) / (M - m))\n",
    "    plt.show()\n",
    "    \n",
    "affiche(fusionne(X[20]))\n",
    "print(fusionne(X[20]).max())\n",
    "affiche(centrer(X[20]))\n"
   ]
  },
  {
   "cell_type": "code",
   "execution_count": 35,
   "metadata": {
    "collapsed": true
   },
   "outputs": [],
   "source": [
    "def zca_whitening(X):\n",
    "    cov = np.cov(X, rowvar=True)   # cov is (N, N)\n",
    "    # singular value decomposition\n",
    "    U,S,V = np.linalg.svd(cov)     # U is (N, N), S is (N,)\n",
    "    # build the ZCA matrix\n",
    "    epsilon = 1e-5\n",
    "    zca_matrix = np.dot(U, np.dot(np.diag(1.0/np.sqrt(S + epsilon)), U.T))\n",
    "    # transform the image data       zca_matrix is (N,N)\n",
    "    zca = np.dot(zca_matrix, X)    # zca is (N, 3072)\n",
    "    return zca"
   ]
  },
  {
   "cell_type": "code",
   "execution_count": 40,
   "metadata": {},
   "outputs": [
    {
     "data": {
      "image/png": "[encoded data removed]",
      "text/plain": [
       "<matplotlib.figure.Figure at 0x24fa131c9e8>"
      ]
     },
     "metadata": {},
     "output_type": "display_data"
    },
    {
     "data": {
      "image/png": "[encoded data removed]",
      "text/plain": [
       "<matplotlib.figure.Figure at 0x24fa244f4e0>"
      ]
     },
     "metadata": {},
     "output_type": "display_data"
    }
   ],
   "source": [
    "X_centered = centrer(X)\n",
    "\n",
    "X_whitened = zca_whitening(X_centered)\n",
    "\n",
    "affiche(X_centered[6])\n",
    "affiche(X_whitened[6])\n",
    "\n"
   ]
  },
  {
   "cell_type": "code",
   "execution_count": 39,
   "metadata": {},
   "outputs": [
    {
     "name": "stdout",
     "output_type": "stream",
     "text": [
      "(10, 3072)\n",
      "(10, 3072)\n",
      "0.899707027485\n",
      "2839.06116645\n"
     ]
    }
   ],
   "source": [
    "# affiche(X_whitened[6].reshape(-1,1))\n",
    "print (X_whitened.shape)\n",
    "\n",
    "print (X_centered.shape)\n",
    "\n",
    "print (np.var(X_whitened[6]))\n",
    "\n",
    "print (np.var(X[6]))"
   ]
  },
  {
   "cell_type": "code",
   "execution_count": 41,
   "metadata": {
    "collapsed": true
   },
   "outputs": [],
   "source": [
    "pickle_on = open(\"whitened.pickle\", \"wb\")\n",
    "pickle.dump(X_whitened, pickle_on)\n",
    "pickle_on.close()"
   ]
  },
  {
   "cell_type": "code",
   "execution_count": 45,
   "metadata": {
    "collapsed": true
   },
   "outputs": [],
   "source": [
    "test_centred = centrer(X_test[:1000])\n",
    "test_whitened = zca_whitening(test_centred)"
   ]
  },
  {
   "cell_type": "code",
   "execution_count": 46,
   "metadata": {},
   "outputs": [
    {
     "name": "stdout",
     "output_type": "stream",
     "text": [
      "Précision : 0.106\n"
     ]
    }
   ],
   "source": [
    "compute_whitened(13, X_whitened, y, test_whitened, y_test, 1000)"
   ]
  },
  {
   "cell_type": "code",
   "execution_count": null,
   "metadata": {
    "collapsed": true
   },
   "outputs": [],
   "source": []
  }
 ],
 "metadata": {
  "kernelspec": {
   "display_name": "Python 3",
   "language": "python",
   "name": "python3"
  },
  "language_info": {
   "codemirror_mode": {
    "name": "ipython",
    "version": 3
   },
   "file_extension": ".py",
   "mimetype": "text/x-python",
   "name": "python",
   "nbconvert_exporter": "python",
   "pygments_lexer": "ipython3",
   "version": "3.6.3"
  }
 },
 "nbformat": 4,
 "nbformat_minor": 2
}
