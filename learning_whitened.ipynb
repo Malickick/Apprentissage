{
 "cells": [
  {
   "cell_type": "code",
   "execution_count": 1,
   "metadata": {
    "collapsed": true
   },
   "outputs": [],
   "source": [
    "import gzip\n",
    "import numpy as np\n",
    "import pickle\n",
    "import matplotlib.pyplot as plt\n",
    "from sklearn.neighbors import KNeighborsClassifier\n",
    "from sklearn import metrics\n",
    "\n",
    "taille_train_set = 50000\n",
    "taille_test_set = 10000\n",
    "\n",
    "def unpickle(file):\n",
    "    with open(file, 'rb') as fo:\n",
    "        dict = pickle.load(fo, encoding='bytes')\n",
    "    return dict\n",
    "\n",
    "def affiche(img):\n",
    "    img = img.reshape((32,32,3))\n",
    "    m,M = img.min(), img.max()\n",
    "    plt.imshow((img - m) / (M - m))\n",
    "    plt.show()\n",
    "\n",
    "x_train = unpickle(\"whitened_batches/train/X_whitened_.pickle\")[:taille_train_set].reshape(taille_train_set, 3072)\n",
    "y_train2D = unpickle(\"whitened_batches/train/Y_whitened_.pickle\")\n",
    "x_test = unpickle(\"whitened_batches/test/X_test_whitened_.pickle\")[:taille_test_set].reshape(taille_test_set, 3072)\n",
    "y_test2D = unpickle(\"whitened_batches/test/Y_test_whitened_.pickle\")\n",
    "\n",
    "# On réarrange la dimention des labels\n",
    "\n",
    "y_train = np.empty(shape = 0)\n",
    "y_test = np.empty(shape = 0)\n",
    "\n",
    "for i in range(taille_train_set):\n",
    "    y = y_train2D[i]\n",
    "    y_train = np.concatenate((y_train,y), axis = 0)\n",
    "    \n",
    "for i in range(taille_test_set):\n",
    "    y = y_test2D[i]\n",
    "    y_test = np.concatenate((y_test,y), axis = 0)"
   ]
  },
  {
   "cell_type": "code",
   "execution_count": 6,
   "metadata": {
    "collapsed": true
   },
   "outputs": [],
   "source": [
    "# for i in range(10):\n",
    "#     affiche(x_train[i])"
   ]
  },
  {
   "cell_type": "code",
   "execution_count": 2,
   "metadata": {
    "collapsed": true
   },
   "outputs": [],
   "source": [
    "from sklearn import metrics\n"
   ]
  },
  {
   "cell_type": "code",
   "execution_count": 7,
   "metadata": {},
   "outputs": [
    {
     "name": "stdout",
     "output_type": "stream",
     "text": [
      "Prédictions terminées\n",
      "Score de précision pour un seuil de  0.1  =  0.3167\n",
      "Prédictions terminées\n",
      "Score de précision pour un seuil de  0.2  =  0.2951\n",
      "Prédictions terminées\n",
      "Score de précision pour un seuil de  0.3  =  0.2918\n",
      "Prédictions terminées\n",
      "Score de précision pour un seuil de  0.4  =  0.2865\n",
      "Prédictions terminées\n",
      "Score de précision pour un seuil de  0.5  =  0.2824\n",
      "Prédictions terminées\n",
      "Score de précision pour un seuil de  0.6  =  0.2781\n",
      "Prédictions terminées\n",
      "Score de précision pour un seuil de  0.7  =  0.2795\n",
      "Prédictions terminées\n",
      "Score de précision pour un seuil de  0.8  =  0.2733\n",
      "Prédictions terminées\n",
      "Score de précision pour un seuil de  0.9  =  0.269\n"
     ]
    }
   ],
   "source": [
    "from sklearn.naive_bayes import GaussianNB, BernoulliNB\n",
    "\n",
    "# gnb = GaussianNB()\n",
    "# gnb.fit(x_train, y_train)\n",
    "# pred_gnb = gnb.predict(x_test)\n",
    "\n",
    "# print(\"Prédictions terminées\")\n",
    "# print(\"Score de précision (Gaussian) = %f\"%metrics.accuracy_score(y_test, pred_gnb))\n",
    "\n",
    "for i in range(1, 10):    \n",
    "    bnb = BernoulliNB(binarize = i/10)\n",
    "    bnb.fit(x_train, y_train)\n",
    "    pred_bnb = bnb.predict(x_test)\n",
    "    print(\"Prédictions terminées\")\n",
    "    print(\"Score de précision pour un seuil de \", i/10, \" = \",  metrics.accuracy_score(y_test, pred_bnb))\n",
    "    i+=1\n",
    "    \n"
   ]
  },
  {
   "cell_type": "code",
   "execution_count": 10,
   "metadata": {
    "collapsed": true
   },
   "outputs": [],
   "source": [
    "# from sklearn.neighbors import KNeighborsClassifier\n",
    "\n",
    "# k = 3\n",
    "\n",
    "# knn = KNeighborsClassifier(n_neighbors=k)\n",
    "# knn.fit(x_train, y_train)\n",
    "# pred = knn.predict(x_test)\n",
    "# print(\"Prédictions terminées\")\n",
    "# print(\"Score de précision = %f\"%metrics.accuracy_score(y_test, pred))"
   ]
  },
  {
   "cell_type": "code",
   "execution_count": null,
   "metadata": {
    "collapsed": true
   },
   "outputs": [],
   "source": []
  },
  {
   "cell_type": "code",
   "execution_count": null,
   "metadata": {
    "collapsed": true
   },
   "outputs": [],
   "source": []
  },
  {
   "cell_type": "code",
   "execution_count": null,
   "metadata": {
    "collapsed": true
   },
   "outputs": [],
   "source": []
  }
 ],
 "metadata": {
  "kernelspec": {
   "display_name": "Python 3",
   "language": "python",
   "name": "python3"
  },
  "language_info": {
   "codemirror_mode": {
    "name": "ipython",
    "version": 3
   },
   "file_extension": ".py",
   "mimetype": "text/x-python",
   "name": "python",
   "nbconvert_exporter": "python",
   "pygments_lexer": "ipython3",
   "version": "3.6.3"
  }
 },
 "nbformat": 4,
 "nbformat_minor": 2
}
